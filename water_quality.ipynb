{
  "nbformat": 4,
  "nbformat_minor": 0,
  "metadata": {
    "colab": {
      "provenance": [],
      "authorship_tag": "ABX9TyMhn5ggPmRWqyQGg/VlxK9A",
      "include_colab_link": true
    },
    "kernelspec": {
      "name": "python3",
      "display_name": "Python 3"
    },
    "language_info": {
      "name": "python"
    }
  },
  "cells": [
    {
      "cell_type": "markdown",
      "metadata": {
        "id": "view-in-github",
        "colab_type": "text"
      },
      "source": [
        "<a href=\"https://colab.research.google.com/github/hyorimjang/IOT-CLASS/blob/main/water_quality.ipynb\" target=\"_parent\"><img src=\"https://colab.research.google.com/assets/colab-badge.svg\" alt=\"Open In Colab\"/></a>"
      ]
    },
    {
      "cell_type": "code",
      "execution_count": 1,
      "metadata": {
        "id": "5JUvanYoXZkl",
        "colab": {
          "base_uri": "https://localhost:8080/"
        },
        "outputId": "a372e439-c9c2-4559-cf62-36a97320b8fc"
      },
      "outputs": [
        {
          "output_type": "stream",
          "name": "stdout",
          "text": [
            "b'<?xml version=\"1.0\" encoding=\"UTF-8\" standalone=\"yes\"?><response><header><resultCode>00</resultCode><resultMsg>NORMAL SERVICE.</resultMsg></header><body><items><item><clUnit>mg/L</clUnit><clVal>0.8111</clVal><fcltyAddr>\\xea\\xb2\\xbd\\xeb\\x82\\xa8 \\xec\\x82\\xac\\xec\\xb2\\x9c\\xec\\x8b\\x9c \\xec\\xb6\\x95\\xeb\\x8f\\x99\\xeb\\xa9\\xb4</fcltyAddr><fcltyMngNm>\\xec\\x82\\xac\\xec\\xb2\\x9c\\xec\\xa0\\x95\\xec\\x88\\x98\\xec\\x9e\\xa5</fcltyMngNm><fcltyMngNo>4824012333</fcltyMngNo><liIndDivName>\\xec\\x83\\x9d\\xed\\x99\\x9c\\xec\\xa0\\x95\\xec\\x88\\x98</liIndDivName><no>24</no><occrrncDt>2015111824</occrrncDt><phUnit>pH</phUnit><phVal>6.9923</phVal><tbUnit>NTU</tbUnit><tbVal>0.0631</tbVal></item><item><clUnit>mg/L</clUnit><clVal>0.8218</clVal><fcltyAddr>\\xea\\xb2\\xbd\\xeb\\x82\\xa8 \\xec\\x82\\xac\\xec\\xb2\\x9c\\xec\\x8b\\x9c \\xec\\xb6\\x95\\xeb\\x8f\\x99\\xeb\\xa9\\xb4</fcltyAddr><fcltyMngNm>\\xec\\x82\\xac\\xec\\xb2\\x9c\\xec\\xa0\\x95\\xec\\x88\\x98\\xec\\x9e\\xa5</fcltyMngNm><fcltyMngNo>4824012333</fcltyMngNo><liIndDivName>\\xec\\x83\\x9d\\xed\\x99\\x9c\\xec\\xa0\\x95\\xec\\x88\\x98</liIndDivName><no>23</no><occrrncDt>2015111823</occrrncDt><phUnit>pH</phUnit><phVal>6.9831</phVal><tbUnit>NTU</tbUnit><tbVal>0.0613</tbVal></item><item><clUnit>mg/L</clUnit><clVal>0.8224</clVal><fcltyAddr>\\xea\\xb2\\xbd\\xeb\\x82\\xa8 \\xec\\x82\\xac\\xec\\xb2\\x9c\\xec\\x8b\\x9c \\xec\\xb6\\x95\\xeb\\x8f\\x99\\xeb\\xa9\\xb4</fcltyAddr><fcltyMngNm>\\xec\\x82\\xac\\xec\\xb2\\x9c\\xec\\xa0\\x95\\xec\\x88\\x98\\xec\\x9e\\xa5</fcltyMngNm><fcltyMngNo>4824012333</fcltyMngNo><liIndDivName>\\xec\\x83\\x9d\\xed\\x99\\x9c\\xec\\xa0\\x95\\xec\\x88\\x98</liIndDivName><no>22</no><occrrncDt>2015111822</occrrncDt><phUnit>pH</phUnit><phVal>6.9783</phVal><tbUnit>NTU</tbUnit><tbVal>0.0603</tbVal></item><item><clUnit>mg/L</clUnit><clVal>0.8199</clVal><fcltyAddr>\\xea\\xb2\\xbd\\xeb\\x82\\xa8 \\xec\\x82\\xac\\xec\\xb2\\x9c\\xec\\x8b\\x9c \\xec\\xb6\\x95\\xeb\\x8f\\x99\\xeb\\xa9\\xb4</fcltyAddr><fcltyMngNm>\\xec\\x82\\xac\\xec\\xb2\\x9c\\xec\\xa0\\x95\\xec\\x88\\x98\\xec\\x9e\\xa5</fcltyMngNm><fcltyMngNo>4824012333</fcltyMngNo><liIndDivName>\\xec\\x83\\x9d\\xed\\x99\\x9c\\xec\\xa0\\x95\\xec\\x88\\x98</liIndDivName><no>21</no><occrrncDt>2015111821</occrrncDt><phUnit>pH</phUnit><phVal>6.9754</phVal><tbUnit>NTU</tbUnit><tbVal>0.0623</tbVal></item><item><clUnit>mg/L</clUnit><clVal>0.8168</clVal><fcltyAddr>\\xea\\xb2\\xbd\\xeb\\x82\\xa8 \\xec\\x82\\xac\\xec\\xb2\\x9c\\xec\\x8b\\x9c \\xec\\xb6\\x95\\xeb\\x8f\\x99\\xeb\\xa9\\xb4</fcltyAddr><fcltyMngNm>\\xec\\x82\\xac\\xec\\xb2\\x9c\\xec\\xa0\\x95\\xec\\x88\\x98\\xec\\x9e\\xa5</fcltyMngNm><fcltyMngNo>4824012333</fcltyMngNo><liIndDivName>\\xec\\x83\\x9d\\xed\\x99\\x9c\\xec\\xa0\\x95\\xec\\x88\\x98</liIndDivName><no>20</no><occrrncDt>2015111820</occrrncDt><phUnit>pH</phUnit><phVal>6.9752</phVal><tbUnit>NTU</tbUnit><tbVal>0.0616</tbVal></item><item><clUnit>mg/L</clUnit><clVal>0.8131</clVal><fcltyAddr>\\xea\\xb2\\xbd\\xeb\\x82\\xa8 \\xec\\x82\\xac\\xec\\xb2\\x9c\\xec\\x8b\\x9c \\xec\\xb6\\x95\\xeb\\x8f\\x99\\xeb\\xa9\\xb4</fcltyAddr><fcltyMngNm>\\xec\\x82\\xac\\xec\\xb2\\x9c\\xec\\xa0\\x95\\xec\\x88\\x98\\xec\\x9e\\xa5</fcltyMngNm><fcltyMngNo>4824012333</fcltyMngNo><liIndDivName>\\xec\\x83\\x9d\\xed\\x99\\x9c\\xec\\xa0\\x95\\xec\\x88\\x98</liIndDivName><no>19</no><occrrncDt>2015111819</occrrncDt><phUnit>pH</phUnit><phVal>6.9771</phVal><tbUnit>NTU</tbUnit><tbVal>0.0616</tbVal></item><item><clUnit>mg/L</clUnit><clVal>0.8193</clVal><fcltyAddr>\\xea\\xb2\\xbd\\xeb\\x82\\xa8 \\xec\\x82\\xac\\xec\\xb2\\x9c\\xec\\x8b\\x9c \\xec\\xb6\\x95\\xeb\\x8f\\x99\\xeb\\xa9\\xb4</fcltyAddr><fcltyMngNm>\\xec\\x82\\xac\\xec\\xb2\\x9c\\xec\\xa0\\x95\\xec\\x88\\x98\\xec\\x9e\\xa5</fcltyMngNm><fcltyMngNo>4824012333</fcltyMngNo><liIndDivName>\\xec\\x83\\x9d\\xed\\x99\\x9c\\xec\\xa0\\x95\\xec\\x88\\x98</liIndDivName><no>18</no><occrrncDt>2015111818</occrrncDt><phUnit>pH</phUnit><phVal>6.9761</phVal><tbUnit>NTU</tbUnit><tbVal>0.0609</tbVal></item><item><clUnit>mg/L</clUnit><clVal>0.8171</clVal><fcltyAddr>\\xea\\xb2\\xbd\\xeb\\x82\\xa8 \\xec\\x82\\xac\\xec\\xb2\\x9c\\xec\\x8b\\x9c \\xec\\xb6\\x95\\xeb\\x8f\\x99\\xeb\\xa9\\xb4</fcltyAddr><fcltyMngNm>\\xec\\x82\\xac\\xec\\xb2\\x9c\\xec\\xa0\\x95\\xec\\x88\\x98\\xec\\x9e\\xa5</fcltyMngNm><fcltyMngNo>4824012333</fcltyMngNo><liIndDivName>\\xec\\x83\\x9d\\xed\\x99\\x9c\\xec\\xa0\\x95\\xec\\x88\\x98</liIndDivName><no>17</no><occrrncDt>2015111817</occrrncDt><phUnit>pH</phUnit><phVal>6.9817</phVal><tbUnit>NTU</tbUnit><tbVal>0.0626</tbVal></item><item><clUnit>mg/L</clUnit><clVal>0.8164</clVal><fcltyAddr>\\xea\\xb2\\xbd\\xeb\\x82\\xa8 \\xec\\x82\\xac\\xec\\xb2\\x9c\\xec\\x8b\\x9c \\xec\\xb6\\x95\\xeb\\x8f\\x99\\xeb\\xa9\\xb4</fcltyAddr><fcltyMngNm>\\xec\\x82\\xac\\xec\\xb2\\x9c\\xec\\xa0\\x95\\xec\\x88\\x98\\xec\\x9e\\xa5</fcltyMngNm><fcltyMngNo>4824012333</fcltyMngNo><liIndDivName>\\xec\\x83\\x9d\\xed\\x99\\x9c\\xec\\xa0\\x95\\xec\\x88\\x98</liIndDivName><no>16</no><occrrncDt>2015111816</occrrncDt><phUnit>pH</phUnit><phVal>6.9949</phVal><tbUnit>NTU</tbUnit><tbVal>0.0624</tbVal></item><item><clUnit>mg/L</clUnit><clVal>0.8121</clVal><fcltyAddr>\\xea\\xb2\\xbd\\xeb\\x82\\xa8 \\xec\\x82\\xac\\xec\\xb2\\x9c\\xec\\x8b\\x9c \\xec\\xb6\\x95\\xeb\\x8f\\x99\\xeb\\xa9\\xb4</fcltyAddr><fcltyMngNm>\\xec\\x82\\xac\\xec\\xb2\\x9c\\xec\\xa0\\x95\\xec\\x88\\x98\\xec\\x9e\\xa5</fcltyMngNm><fcltyMngNo>4824012333</fcltyMngNo><liIndDivName>\\xec\\x83\\x9d\\xed\\x99\\x9c\\xec\\xa0\\x95\\xec\\x88\\x98</liIndDivName><no>15</no><occrrncDt>2015111815</occrrncDt><phUnit>pH</phUnit><phVal>7.0127</phVal><tbUnit>NTU</tbUnit><tbVal>0.0629</tbVal></item></items><numOfRows>10</numOfRows><pageNo>1</pageNo><totalCount>24</totalCount></body></response>'\n"
          ]
        }
      ],
      "source": [
        "import requests\n",
        "\n",
        "url = 'http://apis.data.go.kr/B500001/rwis/waterQuality/list'\n",
        "params ={'serviceKey' : 'U0D3nyCUiRRPBAqxrgr7ep1rE4ca9pN4FrZcYbG9djaJtebIudQcEC5WpMtZbe8roZQpiM03kLKtVqrzvrdDuA%3D%3D', 'stDt' : '2015-11-18', 'stTm' : '00', 'edDt' : '2015-11-18', 'edTm' : '24', 'fcltyMngNo' : '4824012333', 'sujCode' : '333', 'liIndDiv' : '1', 'numOfRows' : '10', 'pageNo' : '1' }\n",
        "\n",
        "response = requests.get(url, params=params)\n",
        "print(response.content)"
      ]
    },
    {
      "cell_type": "code",
      "source": [
        "from bs4 import BeautifulSoup\n",
        "\n",
        "soup = BeautifulSoup(response.content, features=\"xml\")"
      ],
      "metadata": {
        "id": "Bo6-bPE1BV3b"
      },
      "execution_count": 2,
      "outputs": []
    },
    {
      "cell_type": "code",
      "source": [
        "soup.find_all('phVal')"
      ],
      "metadata": {
        "colab": {
          "base_uri": "https://localhost:8080/"
        },
        "id": "dP2-lT_WBhaZ",
        "outputId": "54af5e3e-29ff-45a2-a3e5-399a731797d1"
      },
      "execution_count": 4,
      "outputs": [
        {
          "output_type": "execute_result",
          "data": {
            "text/plain": [
              "[<phVal>6.9923</phVal>,\n",
              " <phVal>6.9831</phVal>,\n",
              " <phVal>6.9783</phVal>,\n",
              " <phVal>6.9754</phVal>,\n",
              " <phVal>6.9752</phVal>,\n",
              " <phVal>6.9771</phVal>,\n",
              " <phVal>6.9761</phVal>,\n",
              " <phVal>6.9817</phVal>,\n",
              " <phVal>6.9949</phVal>,\n",
              " <phVal>7.0127</phVal>]"
            ]
          },
          "metadata": {},
          "execution_count": 4
        }
      ]
    },
    {
      "cell_type": "code",
      "source": [
        "print('학번=', 2285091, '이름=', '장효림')"
      ],
      "metadata": {
        "colab": {
          "base_uri": "https://localhost:8080/"
        },
        "id": "aYbU6QVlCD4K",
        "outputId": "719c4532-c1d8-4974-e8d6-e4cab94a8954"
      },
      "execution_count": 5,
      "outputs": [
        {
          "output_type": "stream",
          "name": "stdout",
          "text": [
            "학번= 2285091 이름= 장효림\n"
          ]
        }
      ]
    }
  ]
}