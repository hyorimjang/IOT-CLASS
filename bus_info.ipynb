{
  "nbformat": 4,
  "nbformat_minor": 0,
  "metadata": {
    "colab": {
      "provenance": [],
      "authorship_tag": "ABX9TyPchgxQDqkL4sJivLSpATVf",
      "include_colab_link": true
    },
    "kernelspec": {
      "name": "python3",
      "display_name": "Python 3"
    },
    "language_info": {
      "name": "python"
    }
  },
  "cells": [
    {
      "cell_type": "markdown",
      "metadata": {
        "id": "view-in-github",
        "colab_type": "text"
      },
      "source": [
        "<a href=\"https://colab.research.google.com/github/hyorimjang/IOT-CLASS/blob/main/bus_info.ipynb\" target=\"_parent\"><img src=\"https://colab.research.google.com/assets/colab-badge.svg\" alt=\"Open In Colab\"/></a>"
      ]
    },
    {
      "cell_type": "code",
      "execution_count": 1,
      "metadata": {
        "colab": {
          "base_uri": "https://localhost:8080/"
        },
        "id": "RcQ_jXs2E7Sl",
        "outputId": "87de909a-dc35-4e97-d127-4418c019e469"
      },
      "outputs": [
        {
          "output_type": "stream",
          "name": "stdout",
          "text": [
            "<?xml version=\"1.0\" encoding=\"UTF-8\" standalone=\"yes\"?><response><comMsgHeader/><msgHeader><queryTime>2024-03-17 16:01:39.577</queryTime><resultCode>0</resultCode><resultMessage>정상적으로 처리되었습니다.</resultMessage></msgHeader><msgBody><busLocationList><endBus>0</endBus><lowPlate>0</lowPlate><plateNo>경기70사1502</plateNo><plateType>3</plateType><remainSeatCnt>45</remainSeatCnt><routeId>233000031</routeId><stationId>121001315</stationId><stationSeq>33</stationSeq></busLocationList><busLocationList><endBus>0</endBus><lowPlate>0</lowPlate><plateNo>경기70사1139</plateNo><plateType>3</plateType><remainSeatCnt>44</remainSeatCnt><routeId>233000031</routeId><stationId>277101594</stationId><stationSeq>3</stationSeq></busLocationList><busLocationList><endBus>0</endBus><lowPlate>0</lowPlate><plateNo>경기70사1673</plateNo><plateType>4</plateType><remainSeatCnt>62</remainSeatCnt><routeId>233000031</routeId><stationId>120000671</stationId><stationSeq>32</stationSeq></busLocationList><busLocationList><endBus>0</endBus><lowPlate>0</lowPlate><plateNo>경기70사1612</plateNo><plateType>3</plateType><remainSeatCnt>31</remainSeatCnt><routeId>233000031</routeId><stationId>200000075</stationId><stationSeq>21</stationSeq></busLocationList><busLocationList><endBus>0</endBus><lowPlate>0</lowPlate><plateNo>경기70사1185</plateNo><plateType>3</plateType><remainSeatCnt>34</remainSeatCnt><routeId>233000031</routeId><stationId>277103159</stationId><stationSeq>27</stationSeq></busLocationList><busLocationList><endBus>0</endBus><lowPlate>0</lowPlate><plateNo>경기70사1671</plateNo><plateType>4</plateType><remainSeatCnt>64</remainSeatCnt><routeId>233000031</routeId><stationId>202000204</stationId><stationSeq>9</stationSeq></busLocationList><busLocationList><endBus>0</endBus><lowPlate>0</lowPlate><plateNo>경기70사1669</plateNo><plateType>4</plateType><remainSeatCnt>48</remainSeatCnt><routeId>233000031</routeId><stationId>200000196</stationId><stationSeq>52</stationSeq></busLocationList><busLocationList><endBus>0</endBus><lowPlate>0</lowPlate><plateNo>경기70사1153</plateNo><plateType>3</plateType><remainSeatCnt>44</remainSeatCnt><routeId>233000031</routeId><stationId>277103109</stationId><stationSeq>2</stationSeq></busLocationList><busLocationList><endBus>0</endBus><lowPlate>0</lowPlate><plateNo>경기70사1690</plateNo><plateType>3</plateType><remainSeatCnt>42</remainSeatCnt><routeId>233000031</routeId><stationId>202000201</stationId><stationSeq>63</stationSeq></busLocationList><busLocationList><endBus>0</endBus><lowPlate>0</lowPlate><plateNo>경기70사1181</plateNo><plateType>3</plateType><remainSeatCnt>27</remainSeatCnt><routeId>233000031</routeId><stationId>200000185</stationId><stationSeq>56</stationSeq></busLocationList><busLocationList><endBus>0</endBus><lowPlate>0</lowPlate><plateNo>경기70사1653</plateNo><plateType>3</plateType><remainSeatCnt>28</remainSeatCnt><routeId>233000031</routeId><stationId>226000038</stationId><stationSeq>44</stationSeq></busLocationList><busLocationList><endBus>0</endBus><lowPlate>0</lowPlate><plateNo>경기70사1168</plateNo><plateType>3</plateType><remainSeatCnt>24</remainSeatCnt><routeId>233000031</routeId><stationId>277103158</stationId><stationSeq>42</stationSeq></busLocationList><busLocationList><endBus>0</endBus><lowPlate>0</lowPlate><plateNo>경기70사1652</plateNo><plateType>3</plateType><remainSeatCnt>44</remainSeatCnt><routeId>233000031</routeId><stationId>202000208</stationId><stationSeq>67</stationSeq></busLocationList><busLocationList><endBus>0</endBus><lowPlate>0</lowPlate><plateNo>경기70사1636</plateNo><plateType>3</plateType><remainSeatCnt>27</remainSeatCnt><routeId>233000031</routeId><stationId>277102049</stationId><stationSeq>36</stationSeq></busLocationList><busLocationList><endBus>0</endBus><lowPlate>0</lowPlate><plateNo>경기70사1650</plateNo><plateType>3</plateType><remainSeatCnt>30</remainSeatCnt><routeId>233000031</routeId><stationId>200000187</stationId><stationSeq>14</stationSeq></busLocationList><busLocationList><endBus>0</endBus><lowPlate>0</lowPlate><plateNo>경기70사1169</plateNo><plateType>3</plateType><remainSeatCnt>35</remainSeatCnt><routeId>233000031</routeId><stationId>202000088</stationId><stationSeq>4</stationSeq></busLocationList><busLocationList><endBus>0</endBus><lowPlate>0</lowPlate><plateNo>경기70사1668</plateNo><plateType>4</plateType><remainSeatCnt>51</remainSeatCnt><routeId>233000031</routeId><stationId>226000039</stationId><stationSeq>25</stationSeq></busLocationList><busLocationList><endBus>0</endBus><lowPlate>0</lowPlate><plateNo>경기70사1501</plateNo><plateType>3</plateType><remainSeatCnt>23</remainSeatCnt><routeId>233000031</routeId><stationId>277103203</stationId><stationSeq>29</stationSeq></busLocationList><busLocationList><endBus>0</endBus><lowPlate>0</lowPlate><plateNo>경기70사1670</plateNo><plateType>4</plateType><remainSeatCnt>62</remainSeatCnt><routeId>233000031</routeId><stationId>202000220</stationId><stationSeq>64</stationSeq></busLocationList><busLocationList><endBus>0</endBus><lowPlate>0</lowPlate><plateNo>경기70사1672</plateNo><plateType>4</plateType><remainSeatCnt>47</remainSeatCnt><routeId>233000031</routeId><stationId>220000009</stationId><stationSeq>38</stationSeq></busLocationList></msgBody></response>\n"
          ]
        }
      ],
      "source": [
        "import requests\n",
        "url='http://openapi.gbis.go.kr/ws/rest/buslocationservice?serviceKey=1234567890&routeId=233000031'\n",
        "r = requests.get(url)\n",
        "print(r.text)"
      ]
    },
    {
      "cell_type": "code",
      "source": [
        "from bs4 import BeautifulSoup\n",
        "\n",
        "soup = BeautifulSoup(r.text, features=\"xml\")"
      ],
      "metadata": {
        "id": "pIhfIH57N2lW"
      },
      "execution_count": 2,
      "outputs": []
    },
    {
      "cell_type": "code",
      "source": [
        "soup.find_all('stationId')"
      ],
      "metadata": {
        "colab": {
          "base_uri": "https://localhost:8080/"
        },
        "id": "cl9NeEcMOU6x",
        "outputId": "c6f3696e-3af5-4ecb-9582-0e9dd80caf82"
      },
      "execution_count": 3,
      "outputs": [
        {
          "output_type": "execute_result",
          "data": {
            "text/plain": [
              "[<stationId>121001315</stationId>,\n",
              " <stationId>277101594</stationId>,\n",
              " <stationId>120000671</stationId>,\n",
              " <stationId>200000075</stationId>,\n",
              " <stationId>277103159</stationId>,\n",
              " <stationId>202000204</stationId>,\n",
              " <stationId>200000196</stationId>,\n",
              " <stationId>277103109</stationId>,\n",
              " <stationId>202000201</stationId>,\n",
              " <stationId>200000185</stationId>,\n",
              " <stationId>226000038</stationId>,\n",
              " <stationId>277103158</stationId>,\n",
              " <stationId>202000208</stationId>,\n",
              " <stationId>277102049</stationId>,\n",
              " <stationId>200000187</stationId>,\n",
              " <stationId>202000088</stationId>,\n",
              " <stationId>226000039</stationId>,\n",
              " <stationId>277103203</stationId>,\n",
              " <stationId>202000220</stationId>,\n",
              " <stationId>220000009</stationId>]"
            ]
          },
          "metadata": {},
          "execution_count": 3
        }
      ]
    },
    {
      "cell_type": "code",
      "source": [
        "print('학번=', 2285091, '이름=', '장효림')"
      ],
      "metadata": {
        "colab": {
          "base_uri": "https://localhost:8080/"
        },
        "id": "hyZMzclyOeC7",
        "outputId": "2b0ee6ba-8f8a-4b86-b9ce-b4caf281fe01"
      },
      "execution_count": 4,
      "outputs": [
        {
          "output_type": "stream",
          "name": "stdout",
          "text": [
            "학번= 2285091 이름= 장효림\n"
          ]
        }
      ]
    }
  ]
}